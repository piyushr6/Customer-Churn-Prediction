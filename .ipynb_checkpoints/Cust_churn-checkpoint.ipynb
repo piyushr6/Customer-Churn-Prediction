{
 "cells": [
  {
   "cell_type": "code",
   "execution_count": null,
   "id": "ebdd414c",
   "metadata": {
    "vscode": {
     "languageId": "plaintext"
    }
   },
   "outputs": [],
   "source": [
    "import pandas as pd"
   ]
  },
  {
   "cell_type": "code",
   "execution_count": null,
   "id": "7b7aeb4a",
   "metadata": {
    "vscode": {
     "languageId": "plaintext"
    }
   },
   "outputs": [],
   "source": []
  }
 ],
 "metadata": {
  "language_info": {
   "name": "python"
  }
 },
 "nbformat": 4,
 "nbformat_minor": 5
}
